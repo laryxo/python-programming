{
  "nbformat": 4,
  "nbformat_minor": 0,
  "metadata": {
    "colab": {
      "name": "Python Practice.ipynb",
      "provenance": [],
      "collapsed_sections": [],
      "authorship_tag": "ABX9TyNGYpGIwtPy/4QjHNxChEsf",
      "include_colab_link": true
    },
    "kernelspec": {
      "name": "python3",
      "display_name": "Python 3"
    },
    "language_info": {
      "name": "python"
    }
  },
  "cells": [
    {
      "cell_type": "markdown",
      "metadata": {
        "id": "view-in-github",
        "colab_type": "text"
      },
      "source": [
        "<a href=\"https://colab.research.google.com/github/laryxo/python-programming/blob/main/assignment2.ipynb\" target=\"_parent\"><img src=\"https://colab.research.google.com/assets/colab-badge.svg\" alt=\"Open In Colab\"/></a>"
      ]
    },
    {
      "cell_type": "markdown",
      "metadata": {
        "id": "5wpJXq9vbd7G"
      },
      "source": [
        "\n",
        "# Assignment2"
      ]
    },
    {
      "cell_type": "code",
      "metadata": {
        "colab": {
          "base_uri": "https://localhost:8080/"
        },
        "id": "Q9h73cYIbTjS",
        "outputId": "43b445fe-015d-496e-a46c-159884e6ff49"
      },
      "source": [
        "# Enter user input\n",
        "name = input(\"First and Last name: \")\n",
        "country = input(\"Origin: \")\n",
        "job = input(\"Nature of current job: \")\n",
        "email = input(\"Enter email address: \")\n",
        "phone = input(\"Enter phone number: \")\n",
        "city = input(\"Enter city: \")\n",
        "mailing = input(\"Enter your mailing address: \")\n",
        "\n",
        "\n",
        "\n"
      ],
      "execution_count": 1,
      "outputs": [
        {
          "output_type": "stream",
          "text": [
            "First and Last name: Laryx Ochieng\n",
            "Origin: Kenyan\n",
            "Nature of current job: IT Support Specialist\n",
            "Enter email address: gotta@get.it\n",
            "Enter phone number: (123) 456 8899\n",
            "Enter city: Eldoret\n",
            "Enter your mailing address: 300 Wakanda lane\n"
          ],
          "name": "stdout"
        }
      ]
    }
  ]
}