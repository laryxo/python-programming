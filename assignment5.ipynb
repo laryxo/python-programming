{
  "nbformat": 4,
  "nbformat_minor": 0,
  "metadata": {
    "colab": {
      "name": "Python Practice.ipynb",
      "provenance": [],
      "collapsed_sections": [],
      "authorship_tag": "ABX9TyMPZnWkAPVd3LnPD2TjBbew",
      "include_colab_link": true
    },
    "kernelspec": {
      "name": "python3",
      "display_name": "Python 3"
    },
    "language_info": {
      "name": "python"
    }
  },
  "cells": [
    {
      "cell_type": "markdown",
      "metadata": {
        "id": "view-in-github",
        "colab_type": "text"
      },
      "source": [
        "<a href=\"https://colab.research.google.com/github/laryxo/python-programming/blob/main/assignment5.ipynb\" target=\"_parent\"><img src=\"https://colab.research.google.com/assets/colab-badge.svg\" alt=\"Open In Colab\"/></a>"
      ]
    },
    {
      "cell_type": "markdown",
      "metadata": {
        "id": "a1rrjqZ3eoZ5"
      },
      "source": [
        "# Assignment5"
      ]
    },
    {
      "cell_type": "code",
      "metadata": {
        "colab": {
          "base_uri": "https://localhost:8080/",
          "height": 129
        },
        "id": "5KLhq0cqehRK",
        "outputId": "985129f1-dea6-45f3-8474-934e40024f0b"
      },
      "source": [
        "\n",
        "#assignemnt 5 \n",
        "\n",
        "print(\" CANADIAN SPACE AGENCY, CSA \")\n",
        "print()\n",
        "\n",
        "menu = {}\n",
        "menu['C']=\"Celcius\"\n",
        "menu['F']=\"Fahrenheit\"\n",
        "menu['K']=\"Kilometer\"\n",
        "menu['NM']=\"Nautical_miles\"\n",
        "menu['ML']=\"Miles\"\n",
        "menu['KM']=\"Kilometer\"\n",
        "menu['M']=\"Meter\"\n",
        "menu['CM']=\"Centimeter\"\n",
        "menu['M2']=\"Meter\"\n",
        "menu['Y']=\"Yard\"\n",
        "menu['CM2']=\"Centimeter\"\n",
        "menu['IN']=\"Inches\"\n",
        "menu['E']=\"Exit\"\n",
        "while True:\n",
        "    options=menu.keys()\n",
        "    \n",
        "    for entry in options:\n",
        "        print (entry, menu[entry])\n",
        "    option=input(\"Please select:\")\n",
        "    if option == 'C':\n",
        "        #convert from Fahrenheit to Celsius\n",
        "        temp = float(input(\"Enter temperature in Fahrenheit: \"))\n",
        "        celsius = (temp - 32)*5/9\n",
        "        print(f\"{temp} in Fahrenheit is Equal to {celsius} in Celsius\")        \n",
        "    elif option =='F':\n",
        "        #convert from celsius to fahrenheit\n",
        "        celsius = float(input(\"Enter temperature in Celsius\"))\n",
        "        fahrenheit=(celsius * 9/5) + 32\n",
        "        print(\"%.3f Celsius is: %0.3f Fahrenheit\" %(celsius, fahrenheit))\n",
        "    elif option =='K':\n",
        "        #convert Nautical miles to Kilometers\n",
        "        nautical_miles = float(input(\"Enter the value in Nautical Miles: \"))\n",
        "        kilometers=nautical_miles * 1.852\n",
        "        print('%0.3f  miles is equal to %0.3f kilometers' %(nautical_miles, kilometers))\n",
        "        print(\"%.3f Celsius is: %0.3f Fahrenheit\" %(celsius, fahrenheit))\n",
        "    elif option =='NM':\n",
        "        #convert Kilometers to Nautical miles\n",
        "        kilometers = float(input(\"Enter the value in Kilometers: \"))\n",
        "        nautical_miles = kilometers / 1.852\n",
        "        print('%0.3f  kilometers is equal to %0.3f nautical_mile' %(kilometers, nautical_miles))\n",
        "    elif option =='ML':\n",
        "        #convert kilometers to miles\n",
        "        kilometers = float(input(\"Enter value in kilometers: \"))\n",
        "        miles=kilometers / 1.609\n",
        "        print('%0.3f kilometers: %0.3f miles' %(kilometers, miles))\n",
        "    elif option =='KM':\n",
        "        #convert miles to kilometers\n",
        "        miles=float(input(\"Enter the value in miles: \"))\n",
        "        kilometers=miles * 1.609\n",
        "        print(\"%0.3f  miles: %0.3f kilometers\" %(miles, kilometers))\n",
        "    elif option =='M':\n",
        "        #convert centimeter to meter\n",
        "        centimeter = float(input(\"Enter the Value Centimeter\"))\n",
        "        meter=centimeter / 100\n",
        "        print(\"%.3f Centimeter: %0.3f Meter\" %(centimeter, meter))      \n",
        "    elif option =='CM':\n",
        "        #convert meter to centimeter\n",
        "        meter= float(input(\"Enter the Value Meter\"))\n",
        "        centimeter=meter * 100\n",
        "        print(\"%.3f Meter: %0.3f Centimeter\" %(meter, centimeter))\n",
        "    elif option =='M2':\n",
        "        #convert yard to meter\n",
        "        yard = float(input(\"Enter the Value in Yard: \"))\n",
        "        meter=yard / 1.094\n",
        "        print(\"%.3f Yard: %0.3f Meter\" %(yard, meter))\n",
        "    elif option =='Y':\n",
        "        #convert meter to yard\n",
        "        meter = float(input(\"Enter the Value in Meter: \"))\n",
        "        yard=meter * 1.094\n",
        "        print(\"%.3f Meter: %0.3f Yard\" %(meter, yard))        \n",
        "    elif option =='CM2':\n",
        "        #convert inches to centimeter\n",
        "        inches=int(input(\"Enter the value in Inches:\"))\n",
        "        centimeter=inches*2.54\n",
        "        print(\"%.3f Inches: %0.3f Centimeter\" %(inches, centimeter))\n",
        "    elif option =='IN':\n",
        "        #convert centimeter to inches\n",
        "        centimeter=int(input(\"Enter the value in Centimeter:\"))\n",
        "        inches=centimeter/2.54\n",
        "        print(\"%.3f Centimeter: %0.3f Inches\" %(centimeter, inches))\n",
        "    elif option =='E':\n",
        "        break       \n",
        "    else:\n",
        "        print(\"invalid option\")\n",
        "print(\"Thanks for using this programme. Goodbye\")\n",
        " CANADIAN SPACE AGENCY, CSA \n",
        "\n",
        "C Celcius\n",
        "F Fahrenheit\n",
        "K Kilometer\n",
        "NM Nautical_miles\n",
        "ML Miles\n",
        "KM Kilometer\n",
        "M Meter\n",
        "CM Centimeter\n",
        "M2 Meter\n",
        "Y Yard\n",
        "CM2 Centimeter\n",
        "IN Inches\n",
        "E Exit"
      ],
      "execution_count": 15,
      "outputs": [
        {
          "output_type": "error",
          "ename": "IndentationError",
          "evalue": "ignored",
          "traceback": [
            "\u001b[0;36m  File \u001b[0;32m\"<ipython-input-15-02cf2dac37bb>\"\u001b[0;36m, line \u001b[0;32m93\u001b[0m\n\u001b[0;31m    CANADIAN SPACE AGENCY, CSA\u001b[0m\n\u001b[0m    ^\u001b[0m\n\u001b[0;31mIndentationError\u001b[0m\u001b[0;31m:\u001b[0m unexpected indent\n"
          ]
        }
      ]
    }
  ]
}