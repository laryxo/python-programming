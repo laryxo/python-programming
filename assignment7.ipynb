{
  "nbformat": 4,
  "nbformat_minor": 0,
  "metadata": {
    "colab": {
      "name": "Python Practice.ipynb",
      "provenance": [],
      "collapsed_sections": [],
      "authorship_tag": "ABX9TyPrItYC+EPCSTZk9qoRjbx4",
      "include_colab_link": true
    },
    "kernelspec": {
      "name": "python3",
      "display_name": "Python 3"
    },
    "language_info": {
      "name": "python"
    }
  },
  "cells": [
    {
      "cell_type": "markdown",
      "metadata": {
        "id": "view-in-github",
        "colab_type": "text"
      },
      "source": [
        "<a href=\"https://colab.research.google.com/github/laryxo/python-programming/blob/main/assignment7.ipynb\" target=\"_parent\"><img src=\"https://colab.research.google.com/assets/colab-badge.svg\" alt=\"Open In Colab\"/></a>"
      ]
    },
    {
      "cell_type": "markdown",
      "metadata": {
        "id": "a1rrjqZ3eoZ5"
      },
      "source": [
        "# Assignment7"
      ]
    },
    {
      "cell_type": "code",
      "metadata": {
        "colab": {
          "base_uri": "https://localhost:8080/",
          "height": 129
        },
        "id": "V3r1NgVpgHvY",
        "outputId": "3143f97d-dfaf-4b58-b51c-ab1689339b8b"
      },
      "source": [
        "\n",
        "\n",
        "contacts = {'person1': {}, 'person2': {}} #'person3': {}, 'person4': {}}\n",
        "\n",
        "options = ''  # Declaring an empty string\n",
        "\n",
        "while options != 'Q':\n",
        "    print('[1] List phone numbers')\n",
        "    print('[2] Add a contact')\n",
        "    print('[3] Remove a contact')\n",
        "    print('[4] update a contact')\n",
        "    print('[5] Lookup contacts by number')\n",
        "    print('[Q] Quit')\n",
        "    print()\n",
        "\n",
        "    options = input('Enter the options [1,2,3,4,5, Q]?')\n",
        "    if options == '1':\n",
        "         print('List phone numbers')\n",
        "         for i in contacts.keys():\n",
        "             phone_number = contacts[i]['Phone-number']\n",
        "             if 'Phone-number' not in contacts[i]:\n",
        "                 print(f\"{phone_number} is not found in {i}\")\n",
        "             else:\n",
        "                 print(f\"The phone number found in {i} is {phone_number}\")\n",
        "\n",
        "\n",
        "    elif options == '2':\n",
        "        print(\"Adding a contact\")\n",
        "        print()\n",
        "        while input(\"Do you want to add new contact [Y/N]\") == \"Y\":\n",
        "            location = input(\"Enter the location to save the details: \")\n",
        "            for x in contacts.keys():\n",
        "                if x == location:\n",
        "                    for data in range(2):\n",
        "                        new_key = input('Enter new key: ')\n",
        "                        new_value = input('Enter new value: ')\n",
        "                        contacts[x][new_key] = new_value\n",
        "\n",
        "        print(contacts)\n",
        "        with open(\"contacts.txt\", 'w') as file:\n",
        "            data = file.write(str(contacts))\n",
        "            file.close()\n",
        "\n",
        "    elif options == '3':\n",
        "        print('Removing a phonebook')\n",
        "        print()\n",
        "        account_del = input(\"Enter the contact you want to remove: \")\n",
        "        for x in contacts.keys():\n",
        "            if x == account_del:\n",
        "                name = input(\"Enter the firstname of contact you want to delete: \")\n",
        "                if contacts[x]['fname'] == name:\n",
        "                    del contacts[x]['fname']\n",
        "                    del contacts[x]['Phone-number']\n",
        "\n",
        "                    print(\"The contact has been removed\")\n",
        "    print(contacts)\n",
        "\n",
        "\n",
        "    \"\"\"elif options == '4':\n",
        "        print('Updating a phonebook')\n",
        "        print()\n",
        "        account_add = input(\"Enter the contact you want to add : \")\n",
        "        for x in contacts.keys():\n",
        "            if x == account_add:\n",
        "                name = input(\"Enter the firstname of the contact you want to update: \")\n",
        "                    account_add.update{\"fname\": \"Olal\"}\"\"\"\n",
        "[1] List phone numbers\n",
        "[2] Add a contact\n",
        "[3] Remove a contact\n",
        "[4] update a contact\n",
        "[5] Lookup contacts by number\n",
        "[Q] Quit\n",
        "\n",
        "Enter the options [1,2,3,4,5, Q]? 2\n",
        "{'person1': {}, 'person2': {}}\n",
        "[1] List phone numbers\n",
        "[2] Add a contact\n",
        "[3] Remove a contact\n",
        "[4] update a contact\n",
        "[5] Lookup contacts by number\n",
        "[Q] Quit\n",
        "\n",
        "Enter the options [1,2,3,4,5, Q]?5\n",
        "{'person1': {}, 'person2': {}}\n",
        "[1] List phone numbers\n",
        "[2] Add a contact\n",
        "[3] Remove a contact\n",
        "[4] update a contact\n",
        "[5] Lookup contacts by number\n",
        "[Q] Quit\n",
        "\n",
        "Enter the options [1,2,3,4,5, Q]?3\n",
        "Removing a phonebook\n",
        "\n",
        "Enter the contact you want to remove:  Olal \n",
        "{'person1': {}, 'person2': {}}\n",
        "[1] List phone numbers\n",
        "[2] Add a contact\n",
        "[3] Remove a contact\n",
        "[4] update a contact\n",
        "[5] Lookup contacts by number\n",
        "[Q] Quit\n",
        "\n",
        "Enter the options [1,2,3,4,5, Q]? Q\n",
        "{'person1': {}, 'person2': {}}\n",
        "[1] List phone numbers\n",
        "[2] Add a contact\n",
        "[3] Remove a contact\n",
        "[4] update a contact\n",
        "[5] Lookup contacts by number\n",
        "[Q] Quit\n"
      ],
      "execution_count": 18,
      "outputs": [
        {
          "output_type": "error",
          "ename": "SyntaxError",
          "evalue": "ignored",
          "traceback": [
            "\u001b[0;36m  File \u001b[0;32m\"<ipython-input-18-9be5bbe5af04>\"\u001b[0;36m, line \u001b[0;32m67\u001b[0m\n\u001b[0;31m    [1] List phone numbers\u001b[0m\n\u001b[0m           ^\u001b[0m\n\u001b[0;31mSyntaxError\u001b[0m\u001b[0;31m:\u001b[0m invalid syntax\n"
          ]
        }
      ]
    }
  ]
}