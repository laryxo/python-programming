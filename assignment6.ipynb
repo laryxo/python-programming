{
  "nbformat": 4,
  "nbformat_minor": 0,
  "metadata": {
    "colab": {
      "name": "Python Practice.ipynb",
      "provenance": [],
      "collapsed_sections": [],
      "authorship_tag": "ABX9TyPd439U56vsUAYPzl5WODON",
      "include_colab_link": true
    },
    "kernelspec": {
      "name": "python3",
      "display_name": "Python 3"
    },
    "language_info": {
      "name": "python"
    }
  },
  "cells": [
    {
      "cell_type": "markdown",
      "metadata": {
        "id": "view-in-github",
        "colab_type": "text"
      },
      "source": [
        "<a href=\"https://colab.research.google.com/github/laryxo/python-programming/blob/main/assignment6.ipynb\" target=\"_parent\"><img src=\"https://colab.research.google.com/assets/colab-badge.svg\" alt=\"Open In Colab\"/></a>"
      ]
    },
    {
      "cell_type": "markdown",
      "metadata": {
        "id": "a1rrjqZ3eoZ5"
      },
      "source": [
        "# Assignment6"
      ]
    },
    {
      "cell_type": "code",
      "metadata": {
        "colab": {
          "base_uri": "https://localhost:8080/",
          "height": 129
        },
        "id": "5RylhIIbfjb_",
        "outputId": "aaeae741-ac48-47e8-b5f8-fb93ad2dfbcf"
      },
      "source": [
        "\n",
        "\n",
        "name = input('Enter first and last name: ')\n",
        "student_sex = input('Enter the student sex: [female,male] ')\n",
        "student_ID = input('Enter your student ID: ')\n",
        "Mailing_Address = input('Enter your mailing address: ')\n",
        "City = input('Enter your City: ')\n",
        "Country = input('Enter your Country: ')\n",
        "\n",
        "Phone = input('Enter your phone number: ')\n",
        "import re\n",
        "\n",
        "regex = '^[a-z0-9]+[\\._]?[a-z0-9]+[@]\\w+[.]\\w{2,3}$'\n",
        "def check(email):\n",
        "    if (re.search(regex, email)):\n",
        "        print(\"Valid Email\")\n",
        "    else:\n",
        "        print(\"Invalid Email\")\n",
        "if __name__ == '__main__':\n",
        "    email = input('Enter your Email Address: ')\n",
        "    check(email)\n",
        "region = input('Enter your Region [Africa,0]?')\n",
        "print()\n",
        "\n",
        "print('Full name: ', name)\n",
        "print(\"Student's ID is :\", student_ID)\n",
        "print(\"Student's mailing Address is: \", Mailing_Address )\n",
        "print(\"Student's Email address is: \", email)\n",
        "print(\"Student's city is: \", City)\n",
        "print(\"Student's Country is: \", Country)\n",
        "print(\"Student's Region is: \", region)\n",
        "\n",
        "\n",
        "quiz = float(input('Enter your first quiz score: '))\n",
        "quiz2 = float(input('Enter your second quiz score: '))\n",
        "quiz3 = float(input('Enter your third quiz score: '))\n",
        "test1 = float(input('Enter your first test score: '))\n",
        "test2 = float(input('Enter your second test score: '))\n",
        "\n",
        "regex = \"^(10|[0-9]?)$\"\n",
        "def check(zoom_score):\n",
        "    if (re.search(regex, zoom_score)):\n",
        "        print(\"Valid number\")\n",
        "    else:\n",
        "        print(\"Invalid number\")\n",
        "if __name__ == '__main__':\n",
        "    zoom_score = input('Enter your Zoom call points: ')\n",
        "    check(zoom_score)\n",
        "assignment_score = input('Enter your programming assignment points:')\n",
        "total_points = float(zoom_score + assignment_score)/2\n",
        "Totals = [quiz, quiz2, quiz3, test1, test2]\n",
        "avg = sum(Totals)/len(Totals)\n",
        "\n",
        "if region == \"A\":\n",
        "    if student_sex == \"male\" and avg >= 80 and total_points >= 8:\n",
        "        print(\"Student \" + name + \"is Qualified for Scholarship\")\n",
        "    elif student_sex == \"female\" and avg >= 76 and total_points >= 7:\n",
        "         print(\"Student \" + name + \"is Qualified for Scholarship\")\n",
        "\n",
        "    if region == \"O\":\n",
        "        if student_sex == \"male\" and avg >= 80 and total_points >= 8:\n",
        "            print(\"Student \" + name + \"is Qualified for Partial Scholarship\")\n",
        "        elif student_sex == \"female\" and avg >= 76 and total_points >= 7:\n",
        "            print(\"Student \" + name + \"is Qualified for Partial Scholarship\")\n",
        "else:\n",
        "    print(\"Student \" + name + \"is NOT Qualified for Scholarship\")\n",
        "\n",
        "\n",
        "print(name + \" Your scores are as follows: \")\n",
        "print('First Quiz:', quiz)\n",
        "print('Second Quiz:', quiz2)\n",
        "print('Third Quiz:', quiz3)\n",
        "print('First Test:', test1)\n",
        "print('Second Test:', test2)\n",
        "print('Third Quiz:', quiz3)\n",
        "print(name + \" Your points are as follows:\")\n",
        "print('Zoom:', zoom_score)\n",
        "print('Assignments:', assignment_score)\n",
        "print(\"The average score of \" + name + \" is \", round(avg,2))\n",
        "Enter first and last name:  Olal Derrick \n",
        "Enter the student sex: [female,male]  Male \n",
        "Enter your student ID:  3565856\n",
        "Enter your mailing address:  65 NBO\n",
        "Enter your City: Nairobi \n",
        "Enter your Country:  Kenya \n",
        "Enter your phone number:  0723887642\n",
        "Enter your Email Address:  olaldarick@gmail.com \n",
        "Invalid Email\n",
        "Enter your Region [Africa,0]? Africa \n",
        "\n",
        "Full name:   Olal Derrick \n",
        "Student's ID is :  3565856\n",
        "Student's mailing Address is:   65 NBO\n",
        "Student's Email address is:   olaldarick@gmail.com \n",
        "Student's city is:  Nairobi \n",
        "Student's Country is:   Kenya \n",
        "Student's Region is:   Africa \n",
        "Enter your first quiz score:  85\n",
        "Enter your second quiz score: 65\n",
        "Enter your third quiz score: 99\n",
        "Enter your first test score: 85\n",
        "Enter your second test score: 89\n",
        "Enter your Zoom call points: 99\n",
        "Invalid number\n",
        "Enter your programming assignment points:9\n",
        "Student  Olal Derrick is NOT Qualified for Scholarship\n",
        " Olal Derrick  Your scores are as follows: \n",
        "First Quiz: 85.0\n",
        "Second Quiz: 65.0\n",
        "Third Quiz: 99.0\n",
        "First Test: 85.0\n",
        "Second Test: 89.0\n",
        "Third Quiz: 99.0\n",
        " Olal Derrick  Your points are as follows:\n",
        "Zoom: 99\n",
        "Assignments: 9\n",
        "The average score of  Olal Derrick  is  84.6"
      ],
      "execution_count": 17,
      "outputs": [
        {
          "output_type": "error",
          "ename": "SyntaxError",
          "evalue": "ignored",
          "traceback": [
            "\u001b[0;36m  File \u001b[0;32m\"<ipython-input-17-52db0c54614e>\"\u001b[0;36m, line \u001b[0;32m80\u001b[0m\n\u001b[0;31m    Enter first and last name:  Olal Derrick\u001b[0m\n\u001b[0m              ^\u001b[0m\n\u001b[0;31mSyntaxError\u001b[0m\u001b[0;31m:\u001b[0m invalid syntax\n"
          ]
        }
      ]
    }
  ]
}