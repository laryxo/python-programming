{
  "nbformat": 4,
  "nbformat_minor": 0,
  "metadata": {
    "colab": {
      "name": "Python Practice.ipynb",
      "provenance": [],
      "collapsed_sections": []
    },
    "kernelspec": {
      "name": "python3",
      "display_name": "Python 3"
    },
    "language_info": {
      "name": "python"
    }
  },
  "cells": [
    {
      "cell_type": "markdown",
      "metadata": {
        "id": "5wpJXq9vbd7G"
      },
      "source": [
        "\n",
        "# Assignment1"
      ]
    },
    {
      "cell_type": "code",
      "metadata": {
        "colab": {
          "base_uri": "https://localhost:8080/"
        },
        "id": "Q9h73cYIbTjS",
        "outputId": "98ab7822-e733-473a-c0ca-2da3757b6461"
      },
      "source": [
        "# Enter First and Last Name\n",
        "\n",
        "print(\"Enter your first and last name\")\n",
        "name = input()\n",
        "print()\n",
        "\n",
        "# Enter your goal for this class\n",
        "\n",
        "print(\"What is your goal for this class?\")\n",
        "goal = input()\n",
        "print()\n",
        "print(\"What is your longterm goal for this class?\")\n",
        "goal = input()\n",
        "print()\n",
        "print(\"When all is said and done, what would you like to be?\")\n",
        "vision = input()\n",
        "\n",
        "\n",
        "\n"
      ],
      "execution_count": null,
      "outputs": [
        {
          "output_type": "stream",
          "text": [
            "Enter your first and last name\n",
            "Laryx Ochieng\n",
            "\n",
            "What is your goal for this class?\n",
            "To be an expert in Python\n",
            "\n",
            "What is your longterm goal for this class?\n",
            "To use Python for automation and building web server applications\n",
            "\n",
            "When all is said and done, what would you like to be?\n",
            "To be the guy who used Python to challenge the status quo\n"
          ],
          "name": "stdout"
        }
      ]
    }
  ]
}