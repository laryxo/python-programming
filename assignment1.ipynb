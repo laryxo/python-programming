{
  "nbformat": 4,
  "nbformat_minor": 0,
  "metadata": {
    "colab": {
      "name": "Python Practice.ipynb",
      "provenance": [],
      "collapsed_sections": []
    },
    "kernelspec": {
      "name": "python3",
      "display_name": "Python 3"
    },
    "language_info": {
      "name": "python"
    }
  },
  "cells": [
    {
      "cell_type": "markdown",
      "metadata": {
        "id": "5wpJXq9vbd7G"
      },
      "source": [
        "\n",
        "# Assignment1"
      ]
    },
    {
      "cell_type": "code",
      "metadata": {
        "colab": {
          "base_uri": "https://localhost:8080/"
        },
        "id": "Q9h73cYIbTjS",
        "outputId": "98ab7822-e733-473a-c0ca-2da3757b6461"
      },
      "source": [
        "# Enter First and Last Name\n",
        "\n",
        "print(\"Enter your first and last name\")\n",
        "name = input()\n",
        "print()\n",
        "\n",
        "# Enter your goal for this class\n",
        "\n",
        "print(\"What is your goal for this class?\")\n",
        "goal = input()\n",
        "print()\n",
        "print(\"What is your longterm goal for this class?\")\n",
        "goal = input()\n",
        "print()\n",
        "print(\"When all is said and done, what would you like to be?\")\n",
        "vision = input()\n",
        "\n",
        "\n",
        "\n"
      ],
      "execution_count": null,
      "outputs": [
        {
          "output_type": "stream",
          "text": [
            "Enter your first and last name\n",
            "Laryx Ochieng\n",
            "\n",
            "What is your goal for this class?\n",
            "To be an expert in Python\n",
            "\n",
            "What is your longterm goal for this class?\n",
            "To use Python for automation and building web server applications\n",
            "\n",
            "When all is said and done, what would you like to be?\n",
            "To be the guy who used Python to challenge the status quo\n"
          ],
          "name": "stdout"
        }
      ]
    },
    {
      "cell_type": "markdown",
      "metadata": {
        "id": "myDr2KKqhvel"
      },
      "source": [
        "# Assignment2"
      ]
    },
    {
      "cell_type": "code",
      "metadata": {
        "colab": {
          "base_uri": "https://localhost:8080/"
        },
        "id": "5yURVBeehzQf",
        "outputId": "f7db4bcb-7893-491e-9c59-74330252281f"
      },
      "source": [
        "# Enter user input\n",
        "name = input(\"First and Last name: \")\n",
        "country = input(\"Origin: \")\n",
        "job = input(\"Nature of current job: \")\n",
        "email = input(\"Enter email address: \")\n",
        "phone = input(\"Enter phone number: \")\n",
        "city = input(\"Enter city: \")\n",
        "mailing = input(\"Enter your mailing address: \")"
      ],
      "execution_count": null,
      "outputs": [
        {
          "output_type": "stream",
          "text": [
            "First and Last name: Laryx Ochieng\n",
            "Origin: Kenyan\n",
            "Nature of current job: IT Support Specialist\n",
            "Enter email address: gotta@get.it\n",
            "Enter phone number: (123) 456 4488\n",
            "Enter city: Eldoret\n",
            "Enter your mailing address: 300 Wakanda lane\n"
          ],
          "name": "stdout"
        }
      ]
    },
    {
      "cell_type": "markdown",
      "metadata": {
        "id": "ZSGybgnuTDFM"
      },
      "source": [
        "# Assignment3"
      ]
    },
    {
      "cell_type": "code",
      "metadata": {
        "id": "0xPbE4AdTJvk"
      },
      "source": [
        "#Program to determine credit worthiness\n",
        "#of customers for car-loan disbursement \n",
        "\n",
        "#Enter full names\n",
        "\"\"\"\n",
        "print(\"Enter first and last name: \")\n",
        "print()\n",
        "print(\"Enter first name: \")\n",
        "fname = input(\"fname: \")\n",
        "print()\n",
        "print(\"Enter last name: \")\n",
        "lname = input(\"lname: \")\n",
        "print()\n",
        "fullnames = (fname + ' ' + lname)\n",
        "print() \n",
        "\n",
        "#Enter phone, email\n",
        "print('Enter customer\\'s phone number: ')\n",
        "phone = input('phone: ')\n",
        "print()\n",
        "print('Enter customer\\'s email address: ')\n",
        "email = input(\"email: \")\n",
        "\"\"\"\n"
      ],
      "execution_count": null,
      "outputs": []
    }
  ]
}