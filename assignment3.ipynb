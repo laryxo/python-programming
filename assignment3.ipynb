{
  "nbformat": 4,
  "nbformat_minor": 0,
  "metadata": {
    "colab": {
      "name": "Python Practice.ipynb",
      "provenance": [],
      "collapsed_sections": [],
      "authorship_tag": "ABX9TyOkeh8IcRmaSoLd6w46yqAC",
      "include_colab_link": true
    },
    "kernelspec": {
      "name": "python3",
      "display_name": "Python 3"
    },
    "language_info": {
      "name": "python"
    }
  },
  "cells": [
    {
      "cell_type": "markdown",
      "metadata": {
        "id": "view-in-github",
        "colab_type": "text"
      },
      "source": [
        "<a href=\"https://colab.research.google.com/github/laryxo/python-programming/blob/main/assignment3.ipynb\" target=\"_parent\"><img src=\"https://colab.research.google.com/assets/colab-badge.svg\" alt=\"Open In Colab\"/></a>"
      ]
    },
    {
      "cell_type": "markdown",
      "metadata": {
        "id": "5wpJXq9vbd7G"
      },
      "source": [
        "\n",
        "# Assignment3"
      ]
    },
    {
      "cell_type": "code",
      "metadata": {
        "colab": {
          "base_uri": "https://localhost:8080/"
        },
        "id": "Q9h73cYIbTjS",
        "outputId": "bbd26edf-3caf-44e3-a76d-5e6a40883d82"
      },
      "source": [
        "#Program to determine credit worthiness\n",
        "#of customers for car-loan disbursement\n",
        "#using best practice of input/output coding with arguments quoted \n",
        "\n",
        "#Enter full names\n",
        "\n",
        "print(\"Enter first and last name: \")\n",
        "print('')\n",
        "print(\"Enter first name: \")\n",
        "fname = input(\"fname: \")\n",
        "print('')\n",
        "print(\"Enter last name: \")\n",
        "lname = input(\"lname: \")\n",
        "print('')\n",
        "fullnames = (fname + ' ' + lname)\n",
        "print('') \n",
        "\n",
        "#Enter phone, email\n",
        "\n",
        "# edited the quote descripancy by using identical quotes\n",
        "# single is paired with single...double is paired with double...etc\n",
        "print('Enter customer\\'s phone number: ')\n",
        "phone = input('phone: ')\n",
        "print('')\n",
        "\n",
        "# escaped the apostrophe within the string\n",
        "# edited the single quotation by making it a pair of single quotes\n",
        "print('Enter customer\\'s email address: ')\n",
        "email = input(\"email: \")\n",
        "print('')\n",
        "\n",
        "#Price of a used car\n",
        "\n",
        "# removed the full colon on the price value\n",
        "price = 10000\n",
        "print('')\n",
        "\n",
        "# removed the semi-colon after the word True.\n",
        "# it's not needed\n",
        "has_good_credit = True\n",
        "\n",
        "if has_good_credit:\n",
        "  down_payment = 0.1 * price\n",
        "else:\n",
        "  down_payment = 0.2 * price\n",
        "print('')\n",
        "\n",
        "# removed the comma after \"Full Names\" \n",
        "# in previous code since it's not required\n",
        "print(\"Full Names: \" + fullnames)\n",
        "print(\"Phone: \" + phone)\n",
        "print(\"Email: \" + email)\n",
        "\n",
        "# printed \"Down Payment\" as a string. Converted down_payment to str\n",
        "# so as to concatenate the two\n",
        "print(\"Down Payment: \" + str(down_payment))\n",
        "\n"
      ],
      "execution_count": 9,
      "outputs": [
        {
          "output_type": "stream",
          "text": [
            "Enter first and last name: \n",
            "\n",
            "Enter first name: \n",
            "fname: Eddie\n",
            "\n",
            "Enter last name: \n",
            "lname: Griffin\n",
            "\n",
            "\n",
            "Enter customer's phone number: \n",
            "phone: (123) 456 8899\n",
            "\n",
            "Enter customer's email address: \n",
            "email: gotta@get.it\n",
            "\n",
            "\n",
            "\n",
            "Full Names: Eddie Griffin\n",
            "Phone: (123) 456 8899\n",
            "Email: gotta@get.it\n",
            "Down Payment: 1000.0\n"
          ],
          "name": "stdout"
        }
      ]
    }
  ]
}