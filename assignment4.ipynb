{
  "nbformat": 4,
  "nbformat_minor": 0,
  "metadata": {
    "colab": {
      "name": "Python Practice.ipynb",
      "provenance": [],
      "collapsed_sections": [],
      "authorship_tag": "ABX9TyNNXEbP4lUVTMH7qkgJ/dYS",
      "include_colab_link": true
    },
    "kernelspec": {
      "name": "python3",
      "display_name": "Python 3"
    },
    "language_info": {
      "name": "python"
    }
  },
  "cells": [
    {
      "cell_type": "markdown",
      "metadata": {
        "id": "view-in-github",
        "colab_type": "text"
      },
      "source": [
        "<a href=\"https://colab.research.google.com/github/laryxo/python-programming/blob/main/assignment4.ipynb\" target=\"_parent\"><img src=\"https://colab.research.google.com/assets/colab-badge.svg\" alt=\"Open In Colab\"/></a>"
      ]
    },
    {
      "cell_type": "markdown",
      "metadata": {
        "id": "gtewjmiqT6en"
      },
      "source": [
        "# Assignment4"
      ]
    },
    {
      "cell_type": "code",
      "metadata": {
        "colab": {
          "base_uri": "https://localhost:8080/"
        },
        "id": "pegFJJv2T9kh",
        "outputId": "f711b2fe-98d8-44ee-ced5-f842d16d3e12"
      },
      "source": [
        "#A system to allow loan officer(s) to enter customer particulars\n",
        "#and calculate customer credit score in qualifying to buy a house\n",
        "\n",
        "\n",
        "#Enter the price of the house you wish to buy\n",
        "print(\"Enter the house price: \")\n",
        "price = float(input(''))\n",
        "\n",
        "#Enter the credit score\n",
        "print(\"Enter the credit socre: \")\n",
        "credit_score = float(input(''))\n",
        "\n",
        "#Enter client particulars\n",
        "print(\"Enter first and last name: \")\n",
        "print('')\n",
        "print(\"Enter first name: \")\n",
        "fname = input(\"fname: \")\n",
        "print('')\n",
        "print(\"Enter last name: \")\n",
        "lname = input(\"lname: \")\n",
        "print('')\n",
        "fullnames = (fname + ' ' + lname)\n",
        "city = input(\"City: \")\n",
        "physical_address = input(\"Physical Address: \")\n",
        "print('')\n",
        "\n",
        "print('=' * 50)\n",
        "\n",
        "print('')\n",
        "\n",
        "#Loan qualification calculation metrics\n",
        "\n",
        "if credit_score >= 780 and credit_score <= 850:\n",
        "  print(\"Excellent Credit\")\n",
        "  print(\"Zero Downpayment\")\n",
        "  down_payment = 0.0 * price\n",
        "\n",
        "elif credit_score >= 740 and credit_score <= 779:\n",
        "  print(\"Very Good\")\n",
        "  down_payment = 0.2 * price\n",
        "\n",
        "elif credit_score >= 720 and credit_score <= 739:\n",
        "  print(\"Above Average\")\n",
        "  down_payment = 0.3 * price\n",
        "\n",
        "elif credit_score >= 680 and credit_score <= 719:\n",
        "  print(\"Average\")\n",
        "  down_payment = 0.6 * price\n",
        "\n",
        "elif credit_score >= 620 and credit_score <= 679:\n",
        "  print(\"Below Average\")\n",
        "  down_payment = 0.18 * price \n",
        "\n",
        "elif credit_score >= 580 and credit_score <= 619:\n",
        "  print(\"Poor Credit Score\")\n",
        "  down_payment = 0.20 * price\n",
        "\n",
        "else:\n",
        "  \n",
        "  print(\"Sorry, you don't qualify to buy a house\")\n",
        "  credit_score < 520\n",
        "  down_payment = 0.25 * price\n",
        "\n",
        "print('')\n",
        "print(\"Full Names: \", fullnames)\n",
        "print(\"New House Price: \", price)\n",
        "print(\"Down Payment: \", down_payment)\n",
        "print(\"Credit Score: \", credit_score)\n",
        "print('=' * 50)"
      ],
      "execution_count": 5,
      "outputs": [
        {
          "output_type": "stream",
          "text": [
            "Enter the house price: \n",
            "245000\n",
            "Enter the credit socre: \n",
            "400\n",
            "Enter first and last name: \n",
            "\n",
            "Enter first name: \n",
            "fname: Halley\n",
            "\n",
            "Enter last name: \n",
            "lname: Berry\n",
            "\n",
            "City: Wakanda\n",
            "Physical Address: 300 Zamunda Lane\n",
            "\n",
            "==================================================\n",
            "\n",
            "Sorry, you don't qualify to buy a house\n",
            "\n",
            "Full Names:  Halley Berry\n",
            "New House Price:  245000.0\n",
            "Down Payment:  61250.0\n",
            "Credit Score:  400.0\n",
            "==================================================\n"
          ],
          "name": "stdout"
        }
      ]
    }
  ]
}